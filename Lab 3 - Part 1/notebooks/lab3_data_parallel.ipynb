{
 "cells": [
  {
   "cell_type": "markdown",
   "id": "9fcdb273",
   "metadata": {},
   "source": [
    "# Creating thread using a for loop"
   ]
  },
  {
   "cell_type": "code",
   "execution_count": 1,
   "id": "039c6082",
   "metadata": {},
   "outputs": [
    {
     "name": "stdout",
     "output_type": "stream",
     "text": [
      "Thread 0 started\n",
      "Thread 0 finished\n",
      "Thread 1 started\n",
      "Thread 1 finished\n",
      "Thread 2 started\n",
      "Thread 2 finished\n",
      "Thread 3 started\n",
      "Thread 3 finished\n",
      "All threads have finished\n"
     ]
    }
   ],
   "source": [
    "import threading\n",
    "import time\n",
    "\n",
    "# Worker function for each thread\n",
    "def worker(thread_id):\n",
    "    print(f\"Thread {thread_id} started\")\n",
    "    print(f\"Thread {thread_id} finished\")\n",
    "\n",
    "# Number of threads\n",
    "num_threads = 4\n",
    "\n",
    "# Create and start threads\n",
    "threads = []\n",
    "start_time = time.time()  # Start timing threads execution\n",
    "for i in range(num_threads):\n",
    "    thread = threading.Thread(target=worker, args=(i,))\n",
    "    threads.append(thread)\n",
    "    thread.start()\n",
    "\n",
    "# Wait for all threads to finish\n",
    "for thread in threads:\n",
    "    thread.join()\n",
    "\n",
    "threaded_time = time.time() - start_time  # Capture execution time\n",
    "print(\"All threads have finished\")\n"
   ]
  },
  {
   "cell_type": "markdown",
   "id": "49d6ffe7",
   "metadata": {},
   "source": [
    "# Creating processes using a for loop"
   ]
  },
  {
   "cell_type": "code",
   "execution_count": 2,
   "id": "ac7a2c39",
   "metadata": {},
   "outputs": [
    {
     "name": "stdout",
     "output_type": "stream",
     "text": [
      "All processes have finished\n"
     ]
    }
   ],
   "source": [
    "import multiprocessing\n",
    "\n",
    "# Worker function for each process\n",
    "def worker_process(process_id):\n",
    "    print(f\"Process {process_id} started\")\n",
    "    print(f\"Process {process_id} finished\")\n",
    "\n",
    "# Number of processes\n",
    "num_processes = 4\n",
    "\n",
    "# Create and start processes\n",
    "processes = []\n",
    "start_time = time.time()  # Start timing process execution\n",
    "for i in range(num_processes):\n",
    "    process = multiprocessing.Process(target=worker_process, args=(i,))\n",
    "    processes.append(process)\n",
    "    process.start()\n",
    "\n",
    "# Wait for all processes to finish\n",
    "for process in processes:\n",
    "    process.join()\n",
    "\n",
    "process_time = time.time() - start_time  # Capture execution time\n",
    "print(\"All processes have finished\")\n"
   ]
  },
  {
   "cell_type": "markdown",
   "id": "29cc7c39",
   "metadata": {},
   "source": [
    "# The sequential Case"
   ]
  },
  {
   "cell_type": "code",
   "execution_count": 3,
   "id": "add8d86e",
   "metadata": {},
   "outputs": [
    {
     "name": "stdout",
     "output_type": "stream",
     "text": [
      "Sequential Sum: 50000005000000\n",
      "Execution Time: 0.6325 seconds\n"
     ]
    }
   ],
   "source": [
    "N = 10**7  # Large number for summation\n",
    "\n",
    "# Start time\n",
    "start_time = time.time()\n",
    "\n",
    "# Compute sum sequentially\n",
    "sum_seq = sum(range(1, N + 1))\n",
    "\n",
    "# End time\n",
    "sequential_time = time.time() - start_time\n",
    "\n",
    "# Print results\n",
    "print(f\"Sequential Sum: {sum_seq}\")\n",
    "print(f\"Execution Time: {sequential_time:.4f} seconds\")\n"
   ]
  },
  {
   "cell_type": "markdown",
   "id": "4a69c868",
   "metadata": {},
   "source": [
    "# Parallelize with Threading"
   ]
  },
  {
   "cell_type": "code",
   "execution_count": 4,
   "id": "6a8976fd",
   "metadata": {},
   "outputs": [
    {
     "name": "stdout",
     "output_type": "stream",
     "text": [
      "Threaded Sum: 50000005000000\n",
      "Execution Time: 0.7501 seconds\n"
     ]
    }
   ],
   "source": [
    "N = 10**7\n",
    "num_threads = 4  # Number of threads\n",
    "chunk_size = N // num_threads  # Split work evenly\n",
    "\n",
    "# Shared list for storing partial sums\n",
    "partial_sums = [0] * num_threads\n",
    "threads = []\n",
    "\n",
    "# Function for threaded summation\n",
    "def thread_sum(start, end, index):\n",
    "    partial_sums[index] = sum(range(start, end))\n",
    "\n",
    "# Start time\n",
    "start_time = time.time()\n",
    "\n",
    "# Creating and starting threads\n",
    "for i in range(num_threads):\n",
    "    start = i * chunk_size + 1\n",
    "    end = (i + 1) * chunk_size + 1 if i != num_threads - 1 else N + 1\n",
    "    thread = threading.Thread(target=thread_sum, args=(start, end, i))\n",
    "    threads.append(thread)\n",
    "    thread.start()\n",
    "\n",
    "# Join all threads\n",
    "for thread in threads:\n",
    "    thread.join()\n",
    "\n",
    "# Compute final sum\n",
    "sum_threads = sum(partial_sums)\n",
    "\n",
    "# End time\n",
    "threaded_time = time.time() - start_time\n",
    "\n",
    "# Print results\n",
    "print(f\"Threaded Sum: {sum_threads}\")\n",
    "print(f\"Execution Time: {threaded_time:.4f} seconds\")\n"
   ]
  },
  {
   "cell_type": "markdown",
   "id": "49d20187",
   "metadata": {},
   "source": [
    "# Parallelize with Multiprocessing"
   ]
  },
  {
   "cell_type": "code",
   "execution_count": null,
   "id": "dca8f274",
   "metadata": {},
   "outputs": [],
   "source": [
    "N = 10**7\n",
    "num_processes = 4  # Number of processes\n",
    "chunk_size = N // num_processes  # Split work evenly\n",
    "\n",
    "# Function for process-based summation\n",
    "def process_sum(start, end, queue):\n",
    "    queue.put(sum(range(start, end)))\n",
    "\n",
    "# Start time\n",
    "start_time = time.time()\n",
    "\n",
    "# Creating a queue to collect results\n",
    "queue = multiprocessing.Queue()\n",
    "processes = []\n",
    "\n",
    "# Creating and starting processes\n",
    "for i in range(num_processes):\n",
    "    start = i * chunk_size + 1\n",
    "    end = (i + 1) * chunk_size + 1 if i != num_processes - 1 else N + 1\n",
    "    process = multiprocessing.Process(target=process_sum, args=(start, end, queue))\n",
    "    processes.append(process)\n",
    "    process.start()\n",
    "\n",
    "# Collect results\n",
    "sum_processes = sum(queue.get() for _ in range(num_processes))\n",
    "\n",
    "# Join all processes\n",
    "for process in processes:\n",
    "    process.join()\n",
    "\n",
    "# End time\n",
    "process_time = time.time() - start_time\n",
    "\n",
    "# Print results\n",
    "print(f\"Process-Based Sum: {sum_processes}\")\n",
    "print(f\"Execution Time: {process_time:.4f} seconds\")\n"
   ]
  },
  {
   "cell_type": "markdown",
   "id": "b03378c2",
   "metadata": {},
   "source": [
    "# Results"
   ]
  },
  {
   "cell_type": "code",
   "execution_count": null,
   "id": "dfb14a8d",
   "metadata": {},
   "outputs": [],
   "source": [
    "# Speedup\n",
    "speedup_threads = sequential_time / threaded_time\n",
    "speedup_processes = sequential_time / process_time\n",
    "\n",
    "# Efficiency\n",
    "efficiency_threads = speedup_threads / num_threads\n",
    "efficiency_processes = speedup_processes / num_processes\n",
    "\n",
    "# Parallelizable fraction (Amdahl's assumption: Assume 1s is serial part)\n",
    "f = (sequential_time - 1.0) / sequential_time  \n",
    "\n",
    "# Amdahl's Law Speedup\n",
    "amdahl_threads = 1 / ((1 - f) + (f / num_threads))\n",
    "amdahl_processes = 1 / ((1 - f) + (f / num_processes))\n",
    "\n",
    "# Gustafson’s Law Speedup\n",
    "gustafson_threads = num_threads - (num_threads - 1) * (1 - f)\n",
    "gustafson_processes = num_processes - (num_processes - 1) * (1 - f)\n"
   ]
  },
  {
   "cell_type": "code",
   "execution_count": null,
   "id": "215e9457",
   "metadata": {},
   "outputs": [],
   "source": [
    "print(f\"\\nPerformance Metrics:\")\n",
    "print(f\"Threads Speedup: {speedup_threads:.2f}, Efficiency: {efficiency_threads:.2f}\")\n",
    "print(f\"Processes Speedup: {speedup_processes:.2f}, Efficiency: {efficiency_processes:.2f}\")\n",
    "print(f\"Amdahl’s Speedup (Threads): {amdahl_threads:.2f}\")\n",
    "print(f\"Amdahl’s Speedup (Processes): {amdahl_processes:.2f}\")\n",
    "print(f\"Gustafson’s Speedup (Threads): {gustafson_threads:.2f}\")\n",
    "print(f\"Gustafson’s Speedup (Processes): {gustafson_processes:.2f}\")"
   ]
  }
 ],
 "metadata": {
  "kernelspec": {
   "display_name": "Python 3 (ipykernel)",
   "language": "python",
   "name": "python3"
  },
  "language_info": {
   "codemirror_mode": {
    "name": "ipython",
    "version": 3
   },
   "file_extension": ".py",
   "mimetype": "text/x-python",
   "name": "python",
   "nbconvert_exporter": "python",
   "pygments_lexer": "ipython3",
   "version": "3.11.4"
  }
 },
 "nbformat": 4,
 "nbformat_minor": 5
}
